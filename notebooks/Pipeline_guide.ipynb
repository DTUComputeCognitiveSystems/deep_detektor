{
 "cells": [
  {
   "cell_type": "code",
   "execution_count": 1,
   "metadata": {
    "collapsed": true
   },
   "outputs": [],
   "source": [
    "# Make parent folders available to import from\n",
    "import os,sys,inspect\n",
    "currentdir = os.path.dirname(os.path.abspath(inspect.getfile(inspect.currentframe())))\n",
    "parentdir = os.path.dirname(currentdir)\n",
    "sys.path.insert(0,parentdir) "
   ]
  },
  {
   "cell_type": "markdown",
   "metadata": {},
   "source": [
    "# Introduction to Pipelines and DataTransformers Usage"
   ]
  },
  {
   "cell_type": "markdown",
   "metadata": {},
   "source": [
    "This short notebook demonstrates the implementation of the dataTransformer class and the classes derived hereof, i.e. pipelines, predictive models, etc."
   ]
  },
  {
   "cell_type": "markdown",
   "metadata": {},
   "source": [
    "## Data transformers"
   ]
  },
  {
   "cell_type": "markdown",
   "metadata": {},
   "source": [
    "The basic structure of the abstract class/interface is:\n",
    "\n",
    "```python\n",
    "class BaseDataTransformer(ABC):\n",
    "\n",
    "    def __init__(self,inputFormat,outputFormat):\n",
    "        self.parent = None\n",
    "        self.inputFormat=inputFormat\n",
    "        self.outputFormat=outputFormat\n",
    "\n",
    "    @abstractmethod\n",
    "    def transform(self, data):\n",
    "        pass\n",
    "        \n",
    "    [...]\n",
    "```\n",
    "In order to define a concrete dataTransformer class, one must define the transform method and set the properties inputFormat and outputFormat. A simple example could be:\n",
    "\n",
    "```python\n",
    "class fromHTMLSourceToJSONPrograms(BaseDataTransformer):\n",
    "    \"\"\"\n",
    "    Transforms raw html files into JSON of the sentences and timestamps.\n",
    "    \"\"\"\n",
    "\n",
    "    def __init__(self):\n",
    "        inputFormat=\"HTMLSource\"\n",
    "        outputFormat=\"JSONPrograms\"\n",
    "        super().__init__(inputFormat,outputFormat)\n",
    "\n",
    "    def transform(self, HTMLSource):\n",
    "        files, program_id = self.getRawFilePaths(HTMLSource.data)\n",
    "        JSONPrograms = self.getCleanedPrograms(files, program_id)\n",
    "        return JSONPrograms\n",
    "```\n",
    "\n",
    "We use the `super().__init__(inputFormat,outputFormat)` already defined in the base class to set the properties.\n",
    "\n",
    "**Data:** the input data to transform should be well-defined for a specific transformer, but it can defined in any way. The same is true for the output.\n"
   ]
  },
  {
   "cell_type": "markdown",
   "metadata": {},
   "source": [
    "### Example Usage\n",
    "\n",
    "An example of an actual implementation is given below. We use two data transformers to illustrate the use."
   ]
  },
  {
   "cell_type": "code",
   "execution_count": 2,
   "metadata": {
    "collapsed": true
   },
   "outputs": [],
   "source": [
    "# Import Data Transformers\n",
    "from util.dataClass import formatHTMLDownload, opts\n",
    "from util.dataTransformers import fromHTMLSourceToJSONPrograms, fromJSONProgramsToHTMLInput"
   ]
  },
  {
   "cell_type": "code",
   "execution_count": 3,
   "metadata": {
    "collapsed": false
   },
   "outputs": [
    {
     "name": "stdout",
     "output_type": "stream",
     "text": [
      "/media/data/Dropbox/DeepFactData/subtitles crawl/\n",
      "[]\n"
     ]
    }
   ],
   "source": [
    "# Define root path to data\n",
    "rootPath='/media/data/Dropbox/'\n",
    "\n",
    "# Define input data\n",
    "HTMLSource= formatHTMLDownload(data=rootPath+'DeepFactData/subtitles crawl/')\n",
    "print(HTMLSource.data)\n",
    "print(HTMLSource.opts)"
   ]
  },
  {
   "cell_type": "code",
   "execution_count": 4,
   "metadata": {
    "collapsed": false
   },
   "outputs": [],
   "source": [
    "# Construct data transformers\n",
    "HTMLSource2JSONPrograms=fromHTMLSourceToJSONPrograms()\n",
    "JSONPrograms2HTMLInput=fromJSONProgramsToHTMLInput()"
   ]
  },
  {
   "cell_type": "code",
   "execution_count": 5,
   "metadata": {
    "collapsed": false
   },
   "outputs": [
    {
     "data": {
      "text/plain": [
       "'<span id=\"program 1012335\">\\n\\t<p id=\"1012335\"> Pr.n'"
      ]
     },
     "execution_count": 5,
     "metadata": {},
     "output_type": "execute_result"
    }
   ],
   "source": [
    "# Transform data\n",
    "JSONPrograms=HTMLSource2JSONPrograms.transform(HTMLSource)\n",
    "HTMLInput=JSONPrograms2HTMLInput.transform(JSONPrograms)\n",
    "\n",
    "# showing first part of the HTMLInput data object\n",
    "next (iter (HTMLInput.values()))[:50] "
   ]
  },
  {
   "cell_type": "markdown",
   "metadata": {},
   "source": [
    "## Pipelines"
   ]
  },
  {
   "cell_type": "markdown",
   "metadata": {},
   "source": [
    "Pipelines combine other objects to make it simple to use multiple data transformers including (trained) predictive models and other pipelines.\n",
    "\n",
    "The implementation defines the constructor and transform method as:\n",
    "\n",
    "```python\n",
    "class BasePipeline(BaseDataTransformer):\n",
    "    \"\"\"\n",
    "    Pipeline of several data transformations.\n",
    "\n",
    "    A pipeline may consist of both data transformers, predictive models, and\n",
    "    pipelines or any combination of these\n",
    "    \"\"\"\n",
    "\n",
    "    def __init__(self, dataTransformers):\n",
    "        self.dataTransformers = []\n",
    "        for dataTransformer in dataTransformers:\n",
    "            self.addChild(dataTransformer)\n",
    "\n",
    "    def transform(self,data):\n",
    "        for dataTransformer in self.dataTransformers:\n",
    "            data = dataTransformer.transform(data)\n",
    "        return data\n",
    "\n",
    "[...]\n",
    "```\n",
    "\n",
    "The pipeline constructor is given a list of data transformers, predictive models, and other pipelines in the order that the data should be transformed. The **```addChild()```** method checks if the outputFormat and inputFormat is the same for each link in the pipeline. These properties are automatically set for the pipeline itself based on the given list of dataTransformers. "
   ]
  },
  {
   "cell_type": "markdown",
   "metadata": {},
   "source": [
    "### Example Usage"
   ]
  },
  {
   "cell_type": "code",
   "execution_count": 6,
   "metadata": {
    "collapsed": true
   },
   "outputs": [],
   "source": [
    "# Import base pipeline class\n",
    "from util.baseClasses import BasePipeline"
   ]
  },
  {
   "cell_type": "markdown",
   "metadata": {},
   "source": [
    "First we construct a pipeline from the two previous data transformers"
   ]
  },
  {
   "cell_type": "code",
   "execution_count": 7,
   "metadata": {
    "collapsed": false
   },
   "outputs": [
    {
     "data": {
      "text/plain": [
       "'<span id=\"program 1012335\">\\n\\t<p id=\"1012335\"> Pr.n'"
      ]
     },
     "execution_count": 7,
     "metadata": {},
     "output_type": "execute_result"
    }
   ],
   "source": [
    "# Construct pipeline\n",
    "HTMLSource2HTMLInput = BasePipeline([HTMLSource2JSONPrograms,JSONPrograms2HTMLInput])\n",
    "\n",
    "# Use pipeline to transform data\n",
    "HTMLInput=HTMLSource2HTMLInput.transform(HTMLSource)\n",
    "\n",
    "# showing first part of the HTMLInput data object\n",
    "next (iter (HTMLInput.values()))[:50] "
   ]
  },
  {
   "cell_type": "markdown",
   "metadata": {},
   "source": [
    "We may also combine pipelines (and any combination of pipelines and data transformers) as long as input and output fits together:"
   ]
  },
  {
   "cell_type": "code",
   "execution_count": 8,
   "metadata": {
    "collapsed": false
   },
   "outputs": [
    {
     "data": {
      "text/plain": [
       "'<span id=\"program 1012335\">\\n\\t<p id=\"1012335\"> Pr.n'"
      ]
     },
     "execution_count": 8,
     "metadata": {},
     "output_type": "execute_result"
    }
   ],
   "source": [
    "# Construct pipeline of pipelines\n",
    "HTMLSource2HTMLInput_part1 = BasePipeline([HTMLSource2JSONPrograms])\n",
    "HTMLSource2HTMLInput_part2 = BasePipeline([JSONPrograms2HTMLInput])\n",
    "\n",
    "HTMLSource2HTMLInput = BasePipeline([HTMLSource2HTMLInput_part1,HTMLSource2HTMLInput_part2])\n",
    "\n",
    "# Use pipeline to transform data\n",
    "HTMLInput=HTMLSource2HTMLInput.transform(HTMLSource)\n",
    "\n",
    "# showing first part of the HTMLInput data object\n",
    "next (iter (HTMLInput.values()))[:50] "
   ]
  },
  {
   "cell_type": "markdown",
   "metadata": {},
   "source": [
    "Pipelines that will be used many times can be implemented so that they do not have be defined repeatedly"
   ]
  },
  {
   "cell_type": "code",
   "execution_count": 9,
   "metadata": {
    "collapsed": false
   },
   "outputs": [
    {
     "data": {
      "text/plain": [
       "'<span id=\"program 1012335\">\\n\\t<p id=\"1012335\"> Pr.n'"
      ]
     },
     "execution_count": 9,
     "metadata": {},
     "output_type": "execute_result"
    }
   ],
   "source": [
    "# Import implemented pipeline\n",
    "from util.dataPipelines import HTMLSource2HTMLInput\n",
    "\n",
    "# Use pipeline to transform data\n",
    "HTMLInput = HTMLSource2HTMLInput().transform(HTMLSource)\n",
    "\n",
    "# showing first part of the HTMLInput data object\n",
    "next (iter (HTMLInput.values()))[:50] "
   ]
  },
  {
   "cell_type": "markdown",
   "metadata": {},
   "source": [
    "## Predictive Models (pretrained)"
   ]
  },
  {
   "cell_type": "markdown",
   "metadata": {},
   "source": [
    "*To do*"
   ]
  }
 ],
 "metadata": {
  "kernelspec": {
   "display_name": "Python 3",
   "language": "python",
   "name": "python3"
  },
  "language_info": {
   "codemirror_mode": {
    "name": "ipython",
    "version": 3
   },
   "file_extension": ".py",
   "mimetype": "text/x-python",
   "name": "python",
   "nbconvert_exporter": "python",
   "pygments_lexer": "ipython3",
   "version": "3.6.0"
  }
 },
 "nbformat": 4,
 "nbformat_minor": 2
}
