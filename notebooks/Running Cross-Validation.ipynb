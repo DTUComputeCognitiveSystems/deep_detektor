{
 "cells": [
  {
   "cell_type": "markdown",
   "metadata": {
    "collapsed": true
   },
   "source": [
    "# Running cross-validation to estimate performance of system"
   ]
  },
  {
   "cell_type": "code",
   "execution_count": 1,
   "metadata": {
    "collapsed": true
   },
   "outputs": [],
   "source": [
    "# Import\n",
    "import sys\n",
    "sys.path.append('..')\n",
    "import pickle\n",
    "import numpy as np\n",
    "from sklearn.metrics import confusion_matrix\n",
    "from sklearn import linear_model\n",
    "from sklearn.feature_extraction.text import CountVectorizer\n",
    "from sklearn.model_selection import LeaveOneOut\n",
    "from sklearn.metrics import recall_score\n",
    "from sklearn.metrics import precision_score\n",
    "import matplotlib.pyplot as plt\n",
    "%matplotlib inline\n",
    "\n",
    "\n",
    "load_loc = '/home/sfvn/Dropbox/DeepFactData/annotated/' #SPECIFY PATH TO DATA\n",
    "with open(load_loc+\"data_matrix_sample_programs.pickle\",'rb') as f:\n",
    "        data = pickle.load(f)"
   ]
  },
  {
   "cell_type": "markdown",
   "metadata": {},
   "source": [
    "## Cross-validation with Tensorflow\n",
    "\n",
    "Models are implemeted in the `models` folder of the repository (see structure in there). Each model should have a `fit`-method and a `predict`-method. \n",
    "\n",
    "The leave-one-program-out cross-validation scheme is implemented in the `utils`-folder. "
   ]
  },
  {
   "cell_type": "code",
   "execution_count": 2,
   "metadata": {
    "collapsed": true
   },
   "outputs": [],
   "source": [
    "import sys\n",
    "sys.path.append('..')\n",
    "\n",
    "import tensorflow as tf\n",
    "from sklearn.metrics import accuracy_score\n",
    "import numpy as np\n",
    "from util.utilities import leave_one_program_out_cv\n",
    "from models.baselines import MyLogisticRegression\n",
    "from models.baselines import MyMLP\n",
    "from sklearn.tree import DecisionTreeClassifier"
   ]
  },
  {
   "cell_type": "code",
   "execution_count": 6,
   "metadata": {},
   "outputs": [
    {
     "name": "stdout",
     "output_type": "stream",
     "text": [
      "Welcome to program 1\n",
      "Number of training examples 2973\n",
      "Number of test examples 516\n",
      "Optimization Finished!\n"
     ]
    },
    {
     "name": "stderr",
     "output_type": "stream",
     "text": [
      "/home/sfvn/anaconda3/envs/py36/lib/python3.6/site-packages/sklearn/metrics/classification.py:1135: UndefinedMetricWarning: F-score is ill-defined and being set to 0.0 due to no predicted samples.\n",
      "  'precision', 'predicted', average, warn_for)\n"
     ]
    },
    {
     "name": "stdout",
     "output_type": "stream",
     "text": [
      "Optimization Finished!\n",
      "Optimization Finished!\n",
      "Done with training and evaluation! ---\n",
      "Welcome to program 2\n",
      "Number of training examples 3258\n",
      "Number of test examples 231\n",
      "Optimization Finished!\n",
      "Optimization Finished!\n",
      "Optimization Finished!\n",
      "Done with training and evaluation! ---\n",
      "Welcome to program 3\n",
      "Number of training examples 3169\n",
      "Number of test examples 320\n",
      "Optimization Finished!\n",
      "Optimization Finished!\n",
      "Optimization Finished!\n",
      "Done with training and evaluation! ---\n",
      "Welcome to program 4\n",
      "Number of training examples 3047\n",
      "Number of test examples 442\n",
      "Optimization Finished!\n",
      "Optimization Finished!\n",
      "Optimization Finished!\n",
      "Done with training and evaluation! ---\n",
      "Welcome to program 5\n",
      "Number of training examples 3172\n",
      "Number of test examples 317\n",
      "Optimization Finished!\n",
      "Optimization Finished!\n",
      "Optimization Finished!\n",
      "Done with training and evaluation! ---\n",
      "Welcome to program 6\n",
      "Number of training examples 3180\n",
      "Number of test examples 309\n",
      "Optimization Finished!\n",
      "Optimization Finished!\n",
      "Optimization Finished!\n",
      "Done with training and evaluation! ---\n",
      "Welcome to program 7\n",
      "Number of training examples 3155\n",
      "Number of test examples 334\n",
      "Optimization Finished!\n",
      "Optimization Finished!\n",
      "Optimization Finished!\n",
      "Done with training and evaluation! ---\n",
      "Welcome to program 8\n",
      "Number of training examples 3182\n",
      "Number of test examples 307\n",
      "Optimization Finished!\n",
      "Optimization Finished!\n",
      "Optimization Finished!\n",
      "Done with training and evaluation! ---\n",
      "Welcome to program 9\n",
      "Number of training examples 3083\n",
      "Number of test examples 406\n",
      "Optimization Finished!\n",
      "Optimization Finished!\n",
      "Optimization Finished!\n",
      "Done with training and evaluation! ---\n",
      "Welcome to program 10\n",
      "Number of training examples 3182\n",
      "Number of test examples 307\n",
      "Optimization Finished!\n",
      "Optimization Finished!\n",
      "Optimization Finished!\n",
      "Done with training and evaluation! ---\n"
     ]
    }
   ],
   "source": [
    "from sklearn.metrics import f1_score\n",
    "cv_perf = leave_one_program_out_cv(data, [MyLogisticRegression(), \n",
    "                                          MyMLP(hidden_units=5), \n",
    "                                          MyMLP(hidden_units=5, class_weights=[1.0,100.0])], \n",
    "                                   eval_functions=[accuracy_score, f1_score])\n",
    "# returns array of size (NUM_PROGRAMS, len(model_list), len(eval_functions))"
   ]
  },
  {
   "cell_type": "code",
   "execution_count": 7,
   "metadata": {},
   "outputs": [
    {
     "data": {
      "text/plain": [
       "([<matplotlib.axis.XTick at 0x7fc5dbbb5e48>,\n",
       "  <matplotlib.axis.XTick at 0x7fc5dbb9b908>,\n",
       "  <matplotlib.axis.XTick at 0x7fc5d97b6908>],\n",
       " <a list of 3 Text xticklabel objects>)"
      ]
     },
     "execution_count": 7,
     "metadata": {},
     "output_type": "execute_result"
    },
    {
     "data": {
      "image/png": "[encoded data removed]",
      "text/plain": [
       "<matplotlib.figure.Figure at 0x7fc5db1a44e0>"
      ]
     },
     "metadata": {},
     "output_type": "display_data"
    }
   ],
   "source": [
    "plt.figure()\n",
    "plt.boxplot(cv_perf[:,:,0])\n",
    "plt.title('Accuracy')\n",
    "plt.xticks((1,2,3),('Logistic Regression', 'MLP', 'MLP (class weighted)') ) \n"
   ]
  },
  {
   "cell_type": "code",
   "execution_count": 8,
   "metadata": {},
   "outputs": [
    {
     "data": {
      "text/plain": [
       "([<matplotlib.axis.XTick at 0x7fc5d955ee80>,\n",
       "  <matplotlib.axis.XTick at 0x7fc5d95592b0>,\n",
       "  <matplotlib.axis.XTick at 0x7fc693280828>],\n",
       " <a list of 3 Text xticklabel objects>)"
      ]
     },
     "execution_count": 8,
     "metadata": {},
     "output_type": "execute_result"
    },
    {
     "data": {
      "image/png": "[encoded data removed]",
      "text/plain": [
       "<matplotlib.figure.Figure at 0x7fc5d9551c18>"
      ]
     },
     "metadata": {},
     "output_type": "display_data"
    }
   ],
   "source": [
    "plt.figure()\n",
    "plt.boxplot(cv_perf[:,:,1])\n",
    "plt.title('F1-Score')\n",
    "plt.xticks((1,2,3),('Logistic Regression', 'MLP', 'MLP (class weighted)') ) "
   ]
  }
 ],
 "metadata": {
  "kernelspec": {
   "display_name": "Python 3",
   "language": "python",
   "name": "python3"
  },
  "language_info": {
   "codemirror_mode": {
    "name": "ipython",
    "version": 3
   },
   "file_extension": ".py",
   "mimetype": "text/x-python",
   "name": "python",
   "nbconvert_exporter": "python",
   "pygments_lexer": "ipython3",
   "version": "3.6.3"
  }
 },
 "nbformat": 4,
 "nbformat_minor": 1
}
