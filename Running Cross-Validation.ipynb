{
 "cells": [
  {
   "cell_type": "markdown",
   "metadata": {
    "collapsed": true
   },
   "source": [
    "# Running cross-validation to estimate performance of system"
   ]
  },
  {
   "cell_type": "code",
   "execution_count": 52,
   "metadata": {},
   "outputs": [],
   "source": [
    "# Import\n",
    "import pickle\n",
    "import numpy as np\n",
    "from sklearn.metrics import confusion_matrix\n",
    "from sklearn import linear_model\n",
    "from sklearn.feature_extraction.text import CountVectorizer\n",
    "from sklearn.model_selection import LeaveOneOut\n",
    "from sklearn.metrics import recall_score\n",
    "from sklearn.metrics import precision_score\n",
    "import matplotlib.pyplot as plt\n",
    "%matplotlib inline\n",
    "\n",
    "\n",
    "load_loc = '/Users/sfvn/Dropbox/DeepFactData/annotated/' #SPECIFY PATH TO DATA\n",
    "with open(load_loc+\"data_matrix_sample_programs.pickle\",'rb') as f:\n",
    "        data = pickle.load(f)"
   ]
  },
  {
   "cell_type": "code",
   "execution_count": 42,
   "metadata": {},
   "outputs": [
    {
     "name": "stdout",
     "output_type": "stream",
     "text": [
      "['start time', 'end time', 'program_id', 'sentence_id', 'sentence', 'claim_idx', 'claim']\n",
      "[False False False ..., False False False]\n"
     ]
    }
   ],
   "source": [
    "X = data['data'][:,4] # sentences\n",
    "y = data['data'][:,6] # claim indices\n",
    "N = len(X)\n",
    "\n",
    "features = data['features']\n",
    "print(features)\n",
    "\n",
    "# Now convert y to a binary indicator matrix (1 is claim, 0 no claim)\n",
    "y = np.asarray([y[i] is not None for i in range(N)])\n",
    "\n",
    "# Make a Bag-of-Words\n",
    "vectorizer = CountVectorizer()\n",
    "X_bow = vectorizer.fit_transform(X)\n",
    "words = vectorizer.get_feature_names()\n",
    "\n",
    "# Fit the logit model\n",
    "logistic = linear_model.LogisticRegression()\n",
    "logistic.fit(X=X_bow,y=y)\n",
    "ypred = logistic.predict(X_bow) \n",
    "\n",
    "# CM on traning data\n",
    "C = confusion_matrix(y, ypred)\n",
    "C\n"
   ]
  },
  {
   "cell_type": "code",
   "execution_count": 54,
   "metadata": {},
   "outputs": [
    {
     "name": "stderr",
     "output_type": "stream",
     "text": [
      "/Users/sfvn/anaconda3/envs/py36/lib/python3.6/site-packages/sklearn/metrics/classification.py:1113: UndefinedMetricWarning: Precision is ill-defined and being set to 0.0 due to no predicted samples.\n",
      "  'precision', 'predicted', average, warn_for)\n"
     ]
    },
    {
     "data": {
      "image/png": "[encoded data removed]",
      "text/plain": [
       "<matplotlib.figure.Figure at 0x113c24470>"
      ]
     },
     "metadata": {},
     "output_type": "display_data"
    }
   ],
   "source": [
    "# Get number of programs\n",
    "program_ids = data['data'][:,2]\n",
    "unique_programs = np.unique(program_ids)\n",
    "NUM_PROGRAMS = len(unique_programs)                   \n",
    "loo = LeaveOneOut()\n",
    "\n",
    "class_performance_precision = []\n",
    "class_performance_recall = []\n",
    "\n",
    "for train,test in loo.split(unique_programs):\n",
    "    # Extract training and test data\n",
    "    train_idx = program_ids!=unique_programs[test]\n",
    "    test_idx = program_ids==unique_programs[test]\n",
    "    X_test = X_bow[test_idx]\n",
    "    X_train = X_bow[train_idx]\n",
    "    y_test = y[test_idx]\n",
    "    y_train = y[train_idx]\n",
    "    \n",
    "    # Train model\n",
    "    logistic = linear_model.LogisticRegression()\n",
    "    logistic.fit(X=X_train,y=y_train)\n",
    "    ypred = logistic.predict(X_test) \n",
    "\n",
    "    # Evaluate\n",
    "    class_performance_precision += [precision_score(y_test,ypred)]\n",
    "    class_performance_recall += [recall_score(y_test,ypred)]\n",
    "\n",
    "plt.boxplot( [class_performance_precision, class_performance_recall] )\n",
    "plt.xlabel( ['Precision', 'Recall'])\n",
    "plt.show()"
   ]
  },
  {
   "cell_type": "code",
   "execution_count": 35,
   "metadata": {},
   "outputs": [
    {
     "data": {
      "text/plain": [
       "array(['program1', 'program2', 'program3', 'program4', 'program5',\n",
       "       'program6', 'program7'], dtype=object)"
      ]
     },
     "execution_count": 35,
     "metadata": {},
     "output_type": "execute_result"
    }
   ],
   "source": [
    "unique_programs"
   ]
  },
  {
   "cell_type": "code",
   "execution_count": 47,
   "metadata": {},
   "outputs": [
    {
     "data": {
      "text/plain": [
       "[0.012499999999999999, 0.02298850574712644, 0.0, 0.0, 0.0, 0.0, 0.0]"
      ]
     },
     "execution_count": 47,
     "metadata": {},
     "output_type": "execute_result"
    }
   ],
   "source": [
    "class_performance"
   ]
  },
  {
   "cell_type": "markdown",
   "metadata": {},
   "source": [
    "## Cross-validation with Tensorflow"
   ]
  },
  {
   "cell_type": "code",
   "execution_count": null,
   "metadata": {
    "collapsed": true
   },
   "outputs": [],
   "source": [
    "import tensorflow as tf\n",
    "from sklearn.metrics import accuracy_score\n",
    "from sklearn.model_selection import LeaveOneOut\n",
    "import numpy as np\n",
    "\n",
    "def leave_one_program_out_cv(data, model_list, eval_functions = [accuracy_score]):\n",
    "    \n",
    "    # Get program ids and number of programs\n",
    "    program_ids = data['data'][:,2]\n",
    "    unique_programs = np.unique(program_ids)\n",
    "    NUM_PROGRAMS = len(unique_programs)                   \n",
    "    loo = LeaveOneOut()\n",
    "\n",
    "    classification_results = np.array( (NUM_PROGRAMS, len(model_list), len(eval_functions)))\n",
    "    tensor_data = data_to_tensors(data)\n",
    "    \n",
    "    for train,test in loo.split(unique_programs):\n",
    "        X_train, X_test, y_train, y_test = extract_train_test(tensor_data,train,test)\n",
    "        split = 0\n",
    "        for model in model_list:\n",
    "            m = 0\n",
    "            model.fit(X_train,y_train)\n",
    "            y_pred = model.predict(X_test)\n",
    "            for evalf in eval_functions:\n",
    "                e = 0\n",
    "                classification_results[split,m,e] = eval_functions[e](y_test,y_pred)\n",
    "                e += 1\n",
    "                \n",
    "            m+=1\n",
    "            \n",
    "        split+=1\n",
    "\n",
    "    \n",
    "def data_to_tensors(data):\n",
    "    print('Wuhuu')\n",
    "    return None\n",
    "\n",
    "def extract_train_test(data)\n",
    "    return None"
   ]
  }
 ],
 "metadata": {
  "kernelspec": {
   "display_name": "Python 3",
   "language": "python",
   "name": "python3"
  },
  "language_info": {
   "codemirror_mode": {
    "name": "ipython",
    "version": 3
   },
   "file_extension": ".py",
   "mimetype": "text/x-python",
   "name": "python",
   "nbconvert_exporter": "python",
   "pygments_lexer": "ipython3",
   "version": "3.6.1"
  }
 },
 "nbformat": 4,
 "nbformat_minor": 1
}
