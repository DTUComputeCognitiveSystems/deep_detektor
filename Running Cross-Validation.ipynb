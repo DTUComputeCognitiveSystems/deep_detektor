{
 "cells": [
  {
   "cell_type": "markdown",
   "metadata": {
    "collapsed": true
   },
   "source": [
    "# Running cross-validation to estimate performance of system"
   ]
  },
  {
   "cell_type": "code",
   "execution_count": 1,
   "metadata": {
    "collapsed": true
   },
   "outputs": [],
   "source": [
    "# Import\n",
    "import pickle\n",
    "import numpy as np\n",
    "from sklearn.metrics import confusion_matrix\n",
    "from sklearn import linear_model\n",
    "from sklearn.feature_extraction.text import CountVectorizer\n",
    "from sklearn.model_selection import LeaveOneOut\n",
    "from sklearn.metrics import recall_score\n",
    "from sklearn.metrics import precision_score\n",
    "import matplotlib.pyplot as plt\n",
    "%matplotlib inline\n",
    "\n",
    "\n",
    "load_loc = '/home/sfvn/Dropbox/DeepFactData/annotated/' #SPECIFY PATH TO DATA\n",
    "with open(load_loc+\"data_matrix_sample_programs.pickle\",'rb') as f:\n",
    "        data = pickle.load(f)"
   ]
  },
  {
   "cell_type": "code",
   "execution_count": 2,
   "metadata": {},
   "outputs": [
    {
     "name": "stdout",
     "output_type": "stream",
     "text": [
      "['start time', 'end time', 'program_id', 'sentence_id', 'sentence', 'claim_idx', 'claim']\n"
     ]
    },
    {
     "data": {
      "text/plain": [
       "array([[2346,    0],\n",
       "       [  76,  123]])"
      ]
     },
     "execution_count": 2,
     "metadata": {},
     "output_type": "execute_result"
    }
   ],
   "source": [
    "X = data['data'][:,4] # sentences\n",
    "y = data['data'][:,6] # claim indices\n",
    "N = len(X)\n",
    "\n",
    "features = data['features']\n",
    "print(features)\n",
    "\n",
    "# Now convert y to a binary indicator matrix (1 is claim, 0 no claim)\n",
    "y = np.asarray([y[i] is not None for i in range(N)])\n",
    "\n",
    "# Make a Bag-of-Words\n",
    "vectorizer = CountVectorizer()\n",
    "X_bow = vectorizer.fit_transform(X)\n",
    "words = vectorizer.get_feature_names()\n",
    "\n",
    "# Fit the logit model\n",
    "logistic = linear_model.LogisticRegression()\n",
    "logistic.fit(X=X_bow,y=y)\n",
    "ypred = logistic.predict(X_bow) \n",
    "\n",
    "# CM on traning data\n",
    "C = confusion_matrix(y, ypred)\n",
    "C\n"
   ]
  },
  {
   "cell_type": "code",
   "execution_count": 3,
   "metadata": {},
   "outputs": [
    {
     "name": "stderr",
     "output_type": "stream",
     "text": [
      "/home/sfvn/anaconda3/envs/py36/lib/python3.6/site-packages/sklearn/metrics/classification.py:1135: UndefinedMetricWarning: Precision is ill-defined and being set to 0.0 due to no predicted samples.\n",
      "  'precision', 'predicted', average, warn_for)\n"
     ]
    },
    {
     "data": {
      "image/png": "[encoded data removed]",
      "text/plain": [
       "<matplotlib.figure.Figure at 0x7f0d046647f0>"
      ]
     },
     "metadata": {},
     "output_type": "display_data"
    }
   ],
   "source": [
    "# Get number of programs\n",
    "program_ids = data['data'][:,2]\n",
    "unique_programs = np.unique(program_ids)\n",
    "NUM_PROGRAMS = len(unique_programs)                   \n",
    "loo = LeaveOneOut()\n",
    "\n",
    "class_performance_precision = []\n",
    "class_performance_recall = []\n",
    "\n",
    "for train,test in loo.split(unique_programs):\n",
    "    # Extract training and test data\n",
    "    train_idx = program_ids!=unique_programs[test]\n",
    "    test_idx = program_ids==unique_programs[test]\n",
    "    X_test = X_bow[test_idx]\n",
    "    X_train = X_bow[train_idx]\n",
    "    y_test = y[test_idx]\n",
    "    y_train = y[train_idx]\n",
    "    \n",
    "    # Train model\n",
    "    logistic = linear_model.LogisticRegression()\n",
    "    logistic.fit(X=X_train,y=y_train)\n",
    "    ypred = logistic.predict(X_test) \n",
    "\n",
    "    # Evaluate\n",
    "    class_performance_precision += [precision_score(y_test,ypred)]\n",
    "    class_performance_recall += [recall_score(y_test,ypred)]\n",
    "\n",
    "plt.boxplot( [class_performance_precision, class_performance_recall] )\n",
    "plt.xlabel( ['Precision', 'Recall'])\n",
    "plt.show()"
   ]
  },
  {
   "cell_type": "code",
   "execution_count": 4,
   "metadata": {},
   "outputs": [
    {
     "data": {
      "text/plain": [
       "array(['program1', 'program2', 'program3', 'program4', 'program5',\n",
       "       'program6', 'program7'], dtype=object)"
      ]
     },
     "execution_count": 4,
     "metadata": {},
     "output_type": "execute_result"
    }
   ],
   "source": [
    "unique_programs"
   ]
  },
  {
   "cell_type": "code",
   "execution_count": null,
   "metadata": {
    "collapsed": true
   },
   "outputs": [],
   "source": [
    "\n",
    "\n"
   ]
  },
  {
   "cell_type": "markdown",
   "metadata": {},
   "source": [
    "## Cross-validation with Tensorflow"
   ]
  },
  {
   "cell_type": "code",
   "execution_count": 5,
   "metadata": {
    "collapsed": true
   },
   "outputs": [],
   "source": [
    "import tensorflow as tf\n",
    "from sklearn.metrics import accuracy_score\n",
    "from sklearn.model_selection import LeaveOneOut\n",
    "import numpy as np\n",
    "\n",
    "def leave_one_program_out_cv(data, model_list, eval_functions = [accuracy_score]):\n",
    "    # TODO: Change model_list to class_list and initialize objects in model-loop\n",
    "    # Get program ids and number of programs\n",
    "    program_ids = data['data'][:,2]\n",
    "    unique_programs = np.unique(program_ids)\n",
    "    NUM_PROGRAMS = len(unique_programs)                   \n",
    "    loo = LeaveOneOut()\n",
    "    classification_results = np.empty( (NUM_PROGRAMS, len(model_list), len(eval_functions)))\n",
    "    classification_results.fill(np.nan)\n",
    "    \n",
    "    # Loop over programs\n",
    "    p = 0\n",
    "    for train,test in loo.split(unique_programs):\n",
    "        train_idx = program_ids!=unique_programs[test]\n",
    "        test_idx = program_ids==unique_programs[test]\n",
    "        \n",
    "        print('Welcome to program %i' %(p+1) )\n",
    "        print('Number of training examples %i'%(np.sum(train_idx)) )\n",
    "        print('Number of test examples %i'%(np.sum(test_idx)) )\n",
    "\n",
    "        training_data, test_data = data_to_tensors(data, train_idx, test_idx)\n",
    "        m = 0\n",
    "        for model in model_list:\n",
    "            # Initalizize TF.seesion... and clear previous?\n",
    "            tfsess = tf.Session()\n",
    "            model.fit(training_data, tfsess)\n",
    "            y_pred = model.predict(test_data, tfsess)\n",
    "            # Evaluate with eval_functions\n",
    "            e=0\n",
    "            for evalf in eval_functions:\n",
    "                classification_results[p,m,e] = evalf(test_data['labels'], y_pred)\n",
    "                e += 1\n",
    "                \n",
    "            m+=1\n",
    "        \n",
    "        print(\"Done with training and evaluation! ---\")\n",
    "        p+=1\n",
    "    return classification_results\n",
    "    \n",
    "def data_to_tensors(data, train_indices=None, test_indices=None):\n",
    "    # TODO: embedding input (string 'bow', 'word2vec', 'glove', ... )\n",
    "    # Performs neccesary feature extraction and test/training split\n",
    "    # Returns data transformed in multiple ways tensors: \n",
    "    #    char: Char-based \n",
    "    #    pos: Part-of-Speech tagging\n",
    "    #    word2vec: Word2vec (or someother subspace..)\n",
    "    #    bow: Bag-Of-Words\n",
    "    # Furthermore returns for each sample the binary vector y (labels)\n",
    "    \n",
    "    data_train = dict()\n",
    "    data_test = dict()\n",
    "    \n",
    "    # Extract relevant data from table\n",
    "    X = data['data'][:,4] # sentences\n",
    "    y = data['data'][:,6] # claim indices\n",
    "    N = len(X)\n",
    "\n",
    "    # If no test/train split is specified return everything in training\n",
    "    if train_indices is None and test_indices is None:\n",
    "        train_indices=np.ones(N, dtype=bool)\n",
    "        \n",
    "\n",
    "    # Pr. sample label-vector    \n",
    "    y = np.asarray([y[i] is not None for i in range(N)])    \n",
    "    data_train['labels'] = y[train_indices]\n",
    "    if train_indices is not None and test_indices is not None:\n",
    "        data_test['labels'] = y[test_indices]\n",
    "\n",
    "    \n",
    "    # Char\n",
    "    # ...\n",
    "    \n",
    "    # Pos\n",
    "    # ...\n",
    "    \n",
    "    # Word2Vec\n",
    "    # ...\n",
    "    \n",
    "    # Bag-Of-Words\n",
    "    vectorizer = CountVectorizer()\n",
    "    X_bow = vectorizer.fit_transform(X)\n",
    "    data_train['bow'] = X_bow[train_indices,:]\n",
    "    if train_indices is not None and test_indices is not None:\n",
    "        data_test['bow']= X_bow[test_indices,:]\n",
    "    \n",
    "    \n",
    "    return data_train, data_test\n",
    "\n",
    "\n",
    "#class TensorFlowModel:\n",
    "        \n",
    "    \n",
    "    \n"
   ]
  },
  {
   "cell_type": "code",
   "execution_count": 6,
   "metadata": {
    "collapsed": true
   },
   "outputs": [],
   "source": [
    "import sys\n",
    "sys.path.append('..')\n",
    "from mymodels.baselines import MyLogisticRegression\n",
    "    "
   ]
  },
  {
   "cell_type": "code",
   "execution_count": 7,
   "metadata": {},
   "outputs": [
    {
     "name": "stdout",
     "output_type": "stream",
     "text": [
      "Welcome to program 1\n",
      "Number of training examples 2029\n",
      "Number of test examples 516\n",
      "Epoch: 0001 cost= 0.052224949\n",
      "Epoch: 0002 cost= 0.052222583\n",
      "Epoch: 0003 cost= 0.052221563\n",
      "Epoch: 0004 cost= 0.052220561\n",
      "Epoch: 0005 cost= 0.052218858\n",
      "Optimization Finished!\n",
      "Done with training and evaluation! ---\n",
      "Welcome to program 2\n",
      "Number of training examples 2225\n",
      "Number of test examples 320\n"
     ]
    },
    {
     "name": "stderr",
     "output_type": "stream",
     "text": [
      "/home/sfvn/anaconda3/envs/py36/lib/python3.6/site-packages/sklearn/metrics/classification.py:1135: UndefinedMetricWarning: F-score is ill-defined and being set to 0.0 due to no predicted samples.\n",
      "  'precision', 'predicted', average, warn_for)\n"
     ]
    },
    {
     "name": "stdout",
     "output_type": "stream",
     "text": [
      "Epoch: 0001 cost= 0.051657040\n",
      "Epoch: 0002 cost= 0.051655069\n",
      "Epoch: 0003 cost= 0.051654309\n",
      "Epoch: 0004 cost= 0.051653452\n",
      "Epoch: 0005 cost= 0.051651634\n",
      "Optimization Finished!\n",
      "Done with training and evaluation! ---\n",
      "Welcome to program 3\n",
      "Number of training examples 2103\n",
      "Number of test examples 442\n",
      "Epoch: 0001 cost= 0.059261095\n",
      "Epoch: 0002 cost= 0.059258666\n",
      "Epoch: 0003 cost= 0.059257809\n",
      "Epoch: 0004 cost= 0.059256326\n",
      "Epoch: 0005 cost= 0.059253622\n",
      "Optimization Finished!\n",
      "Done with training and evaluation! ---\n",
      "Welcome to program 4\n",
      "Number of training examples 2228\n",
      "Number of test examples 317\n",
      "Epoch: 0001 cost= 0.052851539\n",
      "Epoch: 0002 cost= 0.052849550\n",
      "Epoch: 0003 cost= 0.052848786\n",
      "Epoch: 0004 cost= 0.052847899\n",
      "Epoch: 0005 cost= 0.052846048\n",
      "Optimization Finished!\n",
      "Done with training and evaluation! ---\n",
      "Welcome to program 5\n",
      "Number of training examples 2236\n",
      "Number of test examples 309\n",
      "Epoch: 0001 cost= 0.049242124\n",
      "Epoch: 0002 cost= 0.049240317\n",
      "Epoch: 0003 cost= 0.049239483\n",
      "Epoch: 0004 cost= 0.049238656\n",
      "Epoch: 0005 cost= 0.049237199\n",
      "Optimization Finished!\n",
      "Done with training and evaluation! ---\n",
      "Welcome to program 6\n",
      "Number of training examples 2211\n",
      "Number of test examples 334\n",
      "Epoch: 0001 cost= 0.056063555\n",
      "Epoch: 0002 cost= 0.056061447\n",
      "Epoch: 0003 cost= 0.056060649\n",
      "Epoch: 0004 cost= 0.056059536\n",
      "Epoch: 0005 cost= 0.056057300\n",
      "Optimization Finished!\n",
      "Done with training and evaluation! ---\n",
      "Welcome to program 7\n",
      "Number of training examples 2238\n",
      "Number of test examples 307\n",
      "Epoch: 0001 cost= 0.057890374\n",
      "Epoch: 0002 cost= 0.057888266\n",
      "Epoch: 0003 cost= 0.057887550\n",
      "Epoch: 0004 cost= 0.057886612\n",
      "Epoch: 0005 cost= 0.057884675\n",
      "Optimization Finished!\n",
      "Done with training and evaluation! ---\n"
     ]
    },
    {
     "data": {
      "text/plain": [
       "array([[[ 0.91085271,  0.        ]],\n",
       "\n",
       "       [[ 0.896875  ,  0.        ]],\n",
       "\n",
       "       [[ 0.95701357,  0.        ]],\n",
       "\n",
       "       [[ 0.90851735,  0.        ]],\n",
       "\n",
       "       [[ 0.87055016,  0.        ]],\n",
       "\n",
       "       [[ 0.94011976,  0.        ]],\n",
       "\n",
       "       [[ 0.96091205,  0.        ]]])"
      ]
     },
     "execution_count": 7,
     "metadata": {},
     "output_type": "execute_result"
    }
   ],
   "source": [
    "from sklearn.metrics import f1_score\n",
    "leave_one_program_out_cv(data, [MyLogisticRegression()], eval_functions=[accuracy_score, f1_score])"
   ]
  },
  {
   "cell_type": "code",
   "execution_count": 9,
   "metadata": {
    "collapsed": true
   },
   "outputs": [],
   "source": [
    "tensors = data_to_tensors(data)"
   ]
  },
  {
   "cell_type": "code",
   "execution_count": 14,
   "metadata": {},
   "outputs": [
    {
     "ename": "TypeError",
     "evalue": "tuple indices must be integers or slices, not str",
     "output_type": "error",
     "traceback": [
      "\u001b[0;31m---------------------------------------------------------------------------\u001b[0m",
      "\u001b[0;31mTypeError\u001b[0m                                 Traceback (most recent call last)",
      "\u001b[0;32m<ipython-input-14-5e635c6d7452>\u001b[0m in \u001b[0;36m<module>\u001b[0;34m()\u001b[0m\n\u001b[0;32m----> 1\u001b[0;31m \u001b[0mtensors\u001b[0m\u001b[0;34m[\u001b[0m\u001b[0;34m'labels'\u001b[0m\u001b[0;34m]\u001b[0m\u001b[0;34m\u001b[0m\u001b[0m\n\u001b[0m",
      "\u001b[0;31mTypeError\u001b[0m: tuple indices must be integers or slices, not str"
     ]
    }
   ],
   "source": []
  }
 ],
 "metadata": {
  "kernelspec": {
   "display_name": "Python 3",
   "language": "python",
   "name": "python3"
  },
  "language_info": {
   "codemirror_mode": {
    "name": "ipython",
    "version": 3
   },
   "file_extension": ".py",
   "mimetype": "text/x-python",
   "name": "python",
   "nbconvert_exporter": "python",
   "pygments_lexer": "ipython3",
   "version": "3.6.3"
  }
 },
 "nbformat": 4,
 "nbformat_minor": 1
}
