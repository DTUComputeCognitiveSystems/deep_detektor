{
 "cells": [
  {
   "cell_type": "code",
   "execution_count": 1,
   "metadata": {
    "collapsed": true
   },
   "outputs": [],
   "source": [
    "import pickle\n",
    "import numpy as np\n",
    "\n",
    "load_loc = '/home/jehi/Dropbox/DTU/DeepFactData/annotated/'\n",
    "with open(load_loc+\"data_matrix_sample_programs.pickle\",'rb') as f:\n",
    "        data = pickle.load(f)"
   ]
  },
  {
   "cell_type": "code",
   "execution_count": 2,
   "metadata": {
    "collapsed": false
   },
   "outputs": [
    {
     "data": {
      "text/plain": [
       "['start time',\n",
       " 'end time',\n",
       " 'program_id',\n",
       " 'sentence_id',\n",
       " 'sentence',\n",
       " 'claim_idx',\n",
       " 'claim']"
      ]
     },
     "execution_count": 2,
     "metadata": {},
     "output_type": "execute_result"
    }
   ],
   "source": [
    "features = data['features']\n",
    "features"
   ]
  },
  {
   "cell_type": "markdown",
   "metadata": {},
   "source": [
    "The sentences are for the data matrix (X), while the claims is for the outcome vector y"
   ]
  },
  {
   "cell_type": "code",
   "execution_count": 3,
   "metadata": {
    "collapsed": false
   },
   "outputs": [
    {
     "name": "stdout",
     "output_type": "stream",
     "text": [
      "Sentence is:\n",
      "\tDet har været ubehageligt.\n",
      "Claim is:\n",
      "\tNone\n",
      "\n",
      "Sentence is:\n",
      "\tjeg er meget fortvivlet ...\n",
      "Claim is:\n",
      "\tNone\n",
      "\n",
      "Sentence is:\n",
      "\tStatsministeren må overveje, om man kan have tillid til at den samme minister, som har været årsag til noget kritisabelt restriktivt, svingende ... alle de ord, som lige er nævnt om det er den rigtige person til også at rette op på alt det her sådan at vi kan få den vejledning, som vi kan forvente. Er ombudsmandens kritik alvorlig? Der er en kritik. Helt klart.\n",
      "Claim is:\n",
      "\tNone\n",
      "\n",
      "Sentence is:\n",
      "\tSelvfølgelig. DF vil have en stram udlændingepolitik.\n",
      "Claim is:\n",
      "\tDF vil have en stram udlændingepolitik\n",
      "\n",
      "Sentence is:\n",
      "\tDet er der meget, der tyder på. Man skal være meget godtroende for ikke at tænke, at der ligger andet bag.\n",
      "Claim is:\n",
      "\tNone\n",
      "\n",
      "Sentence is:\n",
      "\tDet er ikke en enkelt svipser. Det er helt konsekvent at man har vejledt forkert. Det viser ombudsmandens undersøgelse.\n",
      "Claim is:\n",
      "\tDet er helt konsekvent at man har vejledt forkert. Det viser ombudsmandens undersøgelse\n",
      "\n",
      "Sentence is:\n",
      "\tFor det andet er det tydeligt, at der er en tendens i misvejledningen.\n",
      "Claim is:\n",
      "\tNone\n",
      "\n"
     ]
    }
   ],
   "source": [
    "X = data['data'][:,4]\n",
    "y = data['data'][:,6]\n",
    "N = len(X)\n",
    "\n",
    "# Some examples\n",
    "for i in [21, 23, 33, 40, 48, 49, 50]: #range(100):\n",
    "    print('Sentence is:\\n\\t' + X[i])\n",
    "    print('Claim is:\\n\\t' + str(y[i])+'\\n')\n",
    "       \n",
    "# Now convert y to a binary indicator matrix (1 is claim, 0 no claim)\n",
    "y = np.asarray([y[i] is not None for i in range(N)])"
   ]
  },
  {
   "cell_type": "code",
   "execution_count": 4,
   "metadata": {
    "collapsed": true
   },
   "outputs": [],
   "source": [
    "from sklearn.feature_extraction.text import CountVectorizer\n",
    "vectorizer = CountVectorizer()\n",
    "\n",
    "\n",
    "X_bow = vectorizer.fit_transform(X)\n",
    "features = vectorizer.get_feature_names()"
   ]
  },
  {
   "cell_type": "code",
   "execution_count": 7,
   "metadata": {
    "collapsed": true
   },
   "outputs": [],
   "source": [
    "import matplotlib.pyplot as plt\n",
    "%matplotlib inline"
   ]
  },
  {
   "cell_type": "code",
   "execution_count": 9,
   "metadata": {
    "collapsed": false
   },
   "outputs": [
    {
     "data": {
      "text/plain": [
       "<Container object of 5038 artists>"
      ]
     },
     "execution_count": 9,
     "metadata": {},
     "output_type": "execute_result"
    },
    {
     "data": {
      "image/png": "[encoded data removed]",
      "text/plain": [
       "<matplotlib.figure.Figure at 0x7f7f55104128>"
      ]
     },
     "metadata": {},
     "output_type": "display_data"
    }
   ],
   "source": [
    "plt.figure()\n",
    "plt.bar(range(len(features)),np.sum(X_bow,axis=0).T)"
   ]
  },
  {
   "cell_type": "code",
   "execution_count": 11,
   "metadata": {
    "collapsed": false
   },
   "outputs": [
    {
     "data": {
      "text/plain": [
       "LogisticRegression(C=1.0, class_weight=None, dual=False, fit_intercept=True,\n",
       "          intercept_scaling=1, max_iter=100, multi_class='ovr', n_jobs=1,\n",
       "          penalty='l2', random_state=None, solver='liblinear', tol=0.0001,\n",
       "          verbose=0, warm_start=False)"
      ]
     },
     "execution_count": 11,
     "metadata": {},
     "output_type": "execute_result"
    }
   ],
   "source": [
    "from sklearn import linear_model\n",
    "from sklearn.pipeline import Pipeline\n",
    "from sklearn.model_selection import GridSearchCV\n",
    "\n",
    "logistic = linear_model.LogisticRegression()\n",
    "\n",
    "logistic.fit(X=X_bow,y=y)"
   ]
  },
  {
   "cell_type": "code",
   "execution_count": 13,
   "metadata": {
    "collapsed": false
   },
   "outputs": [
    {
     "data": {
      "text/plain": [
       "0.97013752455795677"
      ]
     },
     "execution_count": 13,
     "metadata": {},
     "output_type": "execute_result"
    }
   ],
   "source": [
    "logistic.score(X_bow,y)"
   ]
  },
  {
   "cell_type": "code",
   "execution_count": 14,
   "metadata": {
    "collapsed": true
   },
   "outputs": [],
   "source": [
    "ypred = logistic.predict(X_bow)"
   ]
  },
  {
   "cell_type": "code",
   "execution_count": 15,
   "metadata": {
    "collapsed": false
   },
   "outputs": [
    {
     "data": {
      "text/plain": [
       "array([[2346,    0],\n",
       "       [  76,  123]])"
      ]
     },
     "execution_count": 15,
     "metadata": {},
     "output_type": "execute_result"
    }
   ],
   "source": [
    "from sklearn.metrics import confusion_matrix\n",
    "confusion_matrix(y, ypred)\n"
   ]
  },
  {
   "cell_type": "code",
   "execution_count": null,
   "metadata": {
    "collapsed": true
   },
   "outputs": [],
   "source": []
  }
 ],
 "metadata": {
  "kernelspec": {
   "display_name": "Python 3",
   "language": "python",
   "name": "python3"
  },
  "language_info": {
   "codemirror_mode": {
    "name": "ipython",
    "version": 3
   },
   "file_extension": ".py",
   "mimetype": "text/x-python",
   "name": "python",
   "nbconvert_exporter": "python",
   "pygments_lexer": "ipython3",
   "version": "3.5.2"
  }
 },
 "nbformat": 4,
 "nbformat_minor": 2
}
