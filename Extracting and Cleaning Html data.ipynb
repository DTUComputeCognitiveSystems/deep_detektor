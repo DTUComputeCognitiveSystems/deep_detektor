{
 "cells": [
  {
   "cell_type": "code",
   "execution_count": 1,
   "metadata": {
    "collapsed": false,
    "deletable": true,
    "editable": true
   },
   "outputs": [],
   "source": [
    "import re\n",
    "\n",
    "file_location = '../Data/DTU Fact Check/Undertekster/'\n",
    "files = ['{:s}{:d}/Undertekster_ Debatten.html'.format(file_location,i) for i in range(1,11)]"
   ]
  },
  {
   "cell_type": "code",
   "execution_count": 2,
   "metadata": {
    "collapsed": false,
    "deletable": true,
    "editable": true
   },
   "outputs": [
    {
     "name": "stdout",
     "output_type": "stream",
     "text": [
      "Undertekster_ Debatten_files  Undertekster_ Debatten.html\r\n"
     ]
    }
   ],
   "source": [
    "!ls ../Data/DTU\\ Fact\\ Check/Undertekster/2"
   ]
  },
  {
   "cell_type": "code",
   "execution_count": 3,
   "metadata": {
    "collapsed": false,
    "deletable": true,
    "editable": true
   },
   "outputs": [
    {
     "data": {
      "text/plain": [
       "['../Data/DTU Fact Check/Undertekster/1/Undertekster_ Debatten.html',\n",
       " '../Data/DTU Fact Check/Undertekster/2/Undertekster_ Debatten.html',\n",
       " '../Data/DTU Fact Check/Undertekster/3/Undertekster_ Debatten.html',\n",
       " '../Data/DTU Fact Check/Undertekster/4/Undertekster_ Debatten.html',\n",
       " '../Data/DTU Fact Check/Undertekster/5/Undertekster_ Debatten.html',\n",
       " '../Data/DTU Fact Check/Undertekster/6/Undertekster_ Debatten.html',\n",
       " '../Data/DTU Fact Check/Undertekster/7/Undertekster_ Debatten.html',\n",
       " '../Data/DTU Fact Check/Undertekster/8/Undertekster_ Debatten.html',\n",
       " '../Data/DTU Fact Check/Undertekster/9/Undertekster_ Debatten.html',\n",
       " '../Data/DTU Fact Check/Undertekster/10/Undertekster_ Debatten.html']"
      ]
     },
     "execution_count": 3,
     "metadata": {},
     "output_type": "execute_result"
    }
   ],
   "source": [
    "# File locations\n",
    "files"
   ]
  },
  {
   "cell_type": "code",
   "execution_count": 4,
   "metadata": {
    "collapsed": false,
    "deletable": true,
    "editable": true
   },
   "outputs": [
    {
     "name": "stdout",
     "output_type": "stream",
     "text": [
      "\tProgram has 766 sentences\n"
     ]
    }
   ],
   "source": [
    "def getHtmlSentences(file_loc):\n",
    "    subtitle_file = open(file_loc,'r')\n",
    "    doc = subtitle_file.read()\n",
    "\n",
    "    subtitle_file.close()\n",
    "\n",
    "    # Find part of the html which contain the subtitles\n",
    "    p_subs = re.compile('category=\"Undertekster\"[\\S\\W<>]+<script src=\"./Undertekster_ Debatten_files/dash.all.min.js.download\"></script>')\n",
    "    match = re.search(p_subs,doc)\n",
    "    doc_subs = match.group()\n",
    "\n",
    "    #Split into the sentences\n",
    "    sentences = doc_subs.split('<span class=\"digits ng-binding\">')\n",
    "    sentences = [sentences[i] for i in range(1,len(sentences))]\n",
    "\n",
    "    print('\\tProgram has {:d} sentences'.format(len(sentences)))\n",
    "    return sentences\n",
    "\n",
    "program_sentences = getHtmlSentences(files[0])"
   ]
  },
  {
   "cell_type": "code",
   "execution_count": 5,
   "metadata": {
    "collapsed": false,
    "deletable": true,
    "editable": true
   },
   "outputs": [
    {
     "data": {
      "text/plain": [
       "('Er det stadig danske politikere, der bestemmer over samfundets udvikling?',\n",
       " '20:00:01:01',\n",
       " '20:00:05:20')"
      ]
     },
     "execution_count": 5,
     "metadata": {},
     "output_type": "execute_result"
    }
   ],
   "source": [
    "def getTimeAndText(text):\n",
    "    p_time = re.compile('[\\d:]+')\n",
    "\n",
    "    p_text = re.compile('ma-highlight=\"[\\w?%!:; ,.\\d-]+')\n",
    "    a = re.finditer(p_text,text)\n",
    "\n",
    "    s = ''\n",
    "    for i in a:\n",
    "        s=s+' '+(i.group()[14:])\n",
    "    \n",
    "    s = re.sub(' +',' ',s) # Removes repeating whitespaces\n",
    "    s=s[1:] # Removes first white space\n",
    "    \n",
    "    nums = re.finditer(p_time,text)\n",
    "    nums = [n.group() for n in nums]\n",
    "    \n",
    "    time_start = nums[0]\n",
    "    time_end = nums[1]\n",
    "    \n",
    "    return s, time_start, time_end\n",
    "\n",
    "getTimeAndText(program_sentences[0])"
   ]
  },
  {
   "cell_type": "code",
   "execution_count": 6,
   "metadata": {
    "collapsed": false,
    "deletable": true,
    "editable": true,
    "scrolled": true
   },
   "outputs": [
    {
     "name": "stdout",
     "output_type": "stream",
     "text": [
      "\tProgram has 516 cleaned sentences\n"
     ]
    }
   ],
   "source": [
    "def getCleanedSentences(sentences):\n",
    "    program = []\n",
    "    start_times = []\n",
    "    end_times = []\n",
    "\n",
    "    for sen in sentences:#[5:]:\n",
    "        text, start, end = getTimeAndText(sen)\n",
    "        #print(text)\n",
    "        #print('\\n')\n",
    "\n",
    "        if len(program) is 0:\n",
    "            program.append(text)\n",
    "            start_times.append(start)\n",
    "            end_times.append(end)\n",
    "        elif len(text)>0:\n",
    "            try:\n",
    "\n",
    "                if text[0] is '-':\n",
    "                    last_text = program.pop()\n",
    "                    s = last_text+text\n",
    "                    s = re.sub('-+','',s)\n",
    "                    s = re.sub(' +',' ',s)\n",
    "\n",
    "                    program.append(s)\n",
    "\n",
    "                    end_times.pop()\n",
    "                    end_times.append(end)\n",
    "\n",
    "                else:\n",
    "                    program.append(text)\n",
    "                    start_times.append(start)\n",
    "                    end_times.append(end)\n",
    "                    \n",
    "            except Exception as e:\n",
    "                print('Woops.. ')\n",
    "                print('\"',text,'\"')\n",
    "                print(len(text))\n",
    "    \n",
    "    print('\\tProgram has {:d} cleaned sentences'.format(len(program)))\n",
    "    return dict(zip(['sentences','start time','end time'],[program, start_times, end_times]))\n",
    "\n",
    "cleaned_sentences = getCleanedSentences(program_sentences)"
   ]
  },
  {
   "cell_type": "code",
   "execution_count": 7,
   "metadata": {
    "collapsed": false,
    "deletable": true,
    "editable": true,
    "scrolled": false
   },
   "outputs": [
    {
     "name": "stdout",
     "output_type": "stream",
     "text": [
      "Program 1\n",
      "\tProgram has 766 sentences\n",
      "\tProgram has 516 cleaned sentences\n",
      "Program 2\n",
      "\tProgram has 420 sentences\n",
      "\tProgram has 320 cleaned sentences\n",
      "Program 3\n",
      "\tProgram has 599 sentences\n",
      "\tProgram has 442 cleaned sentences\n",
      "Program 4\n",
      "\tProgram has 485 sentences\n",
      "\tProgram has 317 cleaned sentences\n",
      "Program 5\n",
      "\tProgram has 441 sentences\n",
      "\tProgram has 309 cleaned sentences\n",
      "Program 6\n",
      "\tProgram has 477 sentences\n",
      "\tProgram has 334 cleaned sentences\n",
      "Program 7\n",
      "\tProgram has 448 sentences\n",
      "\tProgram has 307 cleaned sentences\n",
      "Program 8\n",
      "\tProgram has 566 sentences\n",
      "\tProgram has 406 cleaned sentences\n",
      "Program 9\n",
      "\tProgram has 427 sentences\n",
      "\tProgram has 307 cleaned sentences\n",
      "Program 10\n",
      "\tProgram has 345 sentences\n",
      "\tProgram has 231 cleaned sentences\n"
     ]
    }
   ],
   "source": [
    "total_sent = 0\n",
    "all_programs = dict()\n",
    "for i in range(len(files)):\n",
    "    print('Program',i+1)\n",
    "    program_sentences = getHtmlSentences(files[i])\n",
    "    all_programs['program'+str(i+1)] = getCleanedSentences(program_sentences)\n",
    "    total_sent += len(all_programs['program'+str(i+1)]['sentences'])"
   ]
  },
  {
   "cell_type": "code",
   "execution_count": 8,
   "metadata": {
    "collapsed": false,
    "deletable": true,
    "editable": true
   },
   "outputs": [
    {
     "name": "stdout",
     "output_type": "stream",
     "text": [
      "Samlet antal sætninger: 3489\n"
     ]
    }
   ],
   "source": [
    "print('Samlet antal sætninger: {:d}'.format(total_sent))"
   ]
  },
  {
   "cell_type": "markdown",
   "metadata": {
    "deletable": true,
    "editable": true
   },
   "source": [
    "# Output til Philip"
   ]
  },
  {
   "cell_type": "code",
   "execution_count": 9,
   "metadata": {
    "collapsed": false,
    "deletable": true,
    "editable": true
   },
   "outputs": [
    {
     "name": "stdout",
     "output_type": "stream",
     "text": [
      "Sucessfully wrote program1\n"
     ]
    }
   ],
   "source": [
    "def export_debatten_program(program, program_id, \n",
    "                            write_loc = '../Results/DeepFact/'):\n",
    "    sentenc_id = 1\n",
    "\n",
    "    with open(write_loc+'program'+str(program_id), 'w') as f:\n",
    "        f.write('<span id=\"program'+str(program_id)+'\">')\n",
    "\n",
    "        for s in program['sentences']:\n",
    "            f.write('\\t<p id=\"'+str(sentenc_id)+'\"> '+s+' </p>')\n",
    "            sentenc_id+=1\n",
    "\n",
    "        f.write('</span>')\n",
    "    print('Sucessfully wrote program'+str(program_id))\n",
    "        \n",
    "export_debatten_program(all_programs['program1'],1)"
   ]
  },
  {
   "cell_type": "code",
   "execution_count": 10,
   "metadata": {
    "collapsed": false,
    "deletable": true,
    "editable": true
   },
   "outputs": [
    {
     "name": "stdout",
     "output_type": "stream",
     "text": [
      "program1   program2  program4  program6  program8\r\n",
      "program10  program3  program5  program7  program9\r\n"
     ]
    }
   ],
   "source": [
    "!ls ../Results/DeepFact/"
   ]
  },
  {
   "cell_type": "code",
   "execution_count": 11,
   "metadata": {
    "collapsed": false,
    "deletable": true,
    "editable": true
   },
   "outputs": [
    {
     "name": "stdout",
     "output_type": "stream",
     "text": [
      "Sucessfully wrote program1\n",
      "Sucessfully wrote program2\n",
      "Sucessfully wrote program3\n",
      "Sucessfully wrote program4\n",
      "Sucessfully wrote program5\n",
      "Sucessfully wrote program6\n",
      "Sucessfully wrote program7\n",
      "Sucessfully wrote program8\n",
      "Sucessfully wrote program9\n",
      "Sucessfully wrote program10\n"
     ]
    }
   ],
   "source": [
    "for i in range(len(all_programs)):\n",
    "    export_debatten_program(all_programs['program'+str(i+1)],i+1)"
   ]
  },
  {
   "cell_type": "code",
   "execution_count": 12,
   "metadata": {
    "collapsed": false,
    "deletable": true,
    "editable": true
   },
   "outputs": [
    {
     "name": "stdout",
     "output_type": "stream",
     "text": [
      "total 348K\r\n",
      "-rw-r--r-- 1 jehi unixusers 51K Oct  2 16:36 program1\r\n",
      "-rw-r--r-- 1 jehi unixusers 23K Oct  2 16:36 program10\r\n",
      "-rw-r--r-- 1 jehi unixusers 30K Oct  2 16:36 program2\r\n",
      "-rw-r--r-- 1 jehi unixusers 39K Oct  2 16:36 program3\r\n",
      "-rw-r--r-- 1 jehi unixusers 32K Oct  2 16:36 program4\r\n",
      "-rw-r--r-- 1 jehi unixusers 30K Oct  2 16:36 program5\r\n",
      "-rw-r--r-- 1 jehi unixusers 32K Oct  2 16:36 program6\r\n",
      "-rw-r--r-- 1 jehi unixusers 31K Oct  2 16:36 program7\r\n",
      "-rw-r--r-- 1 jehi unixusers 39K Oct  2 16:36 program8\r\n",
      "-rw-r--r-- 1 jehi unixusers 30K Oct  2 16:36 program9\r\n"
     ]
    }
   ],
   "source": [
    "!ls -l -h ../Results/DeepFact/"
   ]
  },
  {
   "cell_type": "code",
   "execution_count": null,
   "metadata": {
    "collapsed": true,
    "deletable": true,
    "editable": true
   },
   "outputs": [],
   "source": []
  }
 ],
 "metadata": {
  "kernelspec": {
   "display_name": "Python 3",
   "language": "python",
   "name": "python3"
  },
  "language_info": {
   "codemirror_mode": {
    "name": "ipython",
    "version": 3
   },
   "file_extension": ".py",
   "mimetype": "text/x-python",
   "name": "python",
   "nbconvert_exporter": "python",
   "pygments_lexer": "ipython3",
   "version": "3.5.2"
  }
 },
 "nbformat": 4,
 "nbformat_minor": 2
}
